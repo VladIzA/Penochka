{
 "metadata": {
  "language_info": {
   "codemirror_mode": {
    "name": "ipython",
    "version": 3
   },
   "file_extension": ".py",
   "mimetype": "text/x-python",
   "name": "python",
   "nbconvert_exporter": "python",
   "pygments_lexer": "ipython3",
   "version": "3.8.6-final"
  },
  "orig_nbformat": 2,
  "kernelspec": {
   "name": "python3",
   "display_name": "Python 3",
   "language": "python"
  }
 },
 "nbformat": 4,
 "nbformat_minor": 2,
 "cells": [
  {
   "cell_type": "code",
   "execution_count": 4,
   "metadata": {},
   "outputs": [
    {
     "output_type": "stream",
     "name": "stdout",
     "text": [
      "[[ 2.  2.  5.]\n [ 4.  4.  6.]\n [ 7.  8. 10.]]\n[1. 2. 3.]\n"
     ]
    },
    {
     "output_type": "execute_result",
     "data": {
      "text/plain": [
       "(array([[ 2. ,  2. ,  5. ],\n",
       "        [ 0. ,  1. , -7.5],\n",
       "        [ 0. ,  0. , -4. ]]),\n",
       " array([ 1. , -0.5,  0. ]))"
      ]
     },
     "metadata": {},
     "execution_count": 4
    }
   ],
   "source": [
    "from numpy import array\n",
    "import numpy\n",
    "\n",
    "def gauss(a, b):\n",
    "    a = a.copy()\n",
    "    b = b.copy()\n",
    "    def forward():\n",
    "\n",
    "        def zamena(stolb):\n",
    "            if a[stolb, stolb] == 0:\n",
    "                stroka = stolb + 1\n",
    "                for i in a[stolb + 1:,stolb]:\n",
    "                    if i == 0:\n",
    "                        stroka += 1\n",
    "                        continue\n",
    "                    else:\n",
    "                        a[stroka], a[stolb] = a[stolb].copy(), a[stroka].copy()\n",
    "                        b[stroka], b[stolb] = b[stolb].copy(), b[stroka].copy()\n",
    "                        break\n",
    "                   \n",
    "        def perestanovka(stolb):\n",
    "            vedus = a[stolb, stolb]\n",
    "            for i in range(len(a) - stolb - 1):\n",
    "                b[stolb + i + 1] = b[stolb + i + 1] - a[stolb + i + 1, stolb].copy() / vedus\n",
    "                a[stolb + i + 1, stolb :] = a[stolb + i + 1, stolb :] - a[stolb, stolb :] * a[stolb + i + 1, stolb] / vedus\n",
    "\n",
    "        for i in range(len(a) - 1):\n",
    "            zamena(i)\n",
    "            perestanovka(i)\n",
    "\n",
    "    forward()\n",
    "    return a, b\n",
    "a = array([[2,2,5], [4,4,6], [7, 8, 10]], dtype = float)\n",
    "b = array([1, 2, 3], dtype = float)\n",
    "print(a)\n",
    "print(b)\n",
    "gauss(a, b)"
   ]
  }
 ]
}