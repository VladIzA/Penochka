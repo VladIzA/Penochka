{
 "cells": [
  {
   "cell_type": "markdown",
   "metadata": {},
   "source": [
    "# Тригонометрические функции\n",
    "\n",
    "Я работал с несколькими функциями: синусом, косинусом, арксинусом, арктангенсом (арккосинус не так интересен, когад есть арксинус). Для небольших $x$:\n",
    "\n",
    "$$\\sin x = x - \\frac{x^3}{3!} + \\frac{x^5}{5!} - \\frac{x^7}{7!} + \\ldots + R(x) =\n",
    "\\sum_{n=0}^N (-1)^n \\frac{x^{2n+1}}{(2n+1)!} + R(x),$$\n",
    "\n",
    "$$\\cos x = 1 - \\frac{x^2}{2!} + \\frac{x^4}{4!} - \\frac{x^6}{6!} + \\ldots + R(x) =\n",
    "\\sum_{n=0}^N (-1)^n \\frac{x^{2n}}{(2n)!} + R(x),$$\n",
    "\n",
    "$$\\arcsin x = x + \\frac{x^3}{6} + \\frac{3x^5}{40}  + \\ldots + R(x) =\n",
    "\\sum_{n=0}^N (-1)^n \\frac{(2n)!x^{2n+1}}{4^{n}(n^{2})!(2n+1)} + R(x),$$\n",
    "\n",
    "$$\\arctan x = x - \\frac{x^3}{3} + \\frac{x^5}{5} - \\ldots + R(x) =\n",
    "\\sum_{n=1}^N (-1)^{n-1} \\frac{x^{2n-1}}{(2n-1)} + R(x),$$\n",
    "\n",
    "причём $R(x) \\xrightarrow[N \\rightarrow \\infty]{} 0$.\n",
    "\n",
    "Код вышел не самый крависый, и его вполне можно и сократить, однако я посторался сделать побольше функций."
   ]
  },
  {
   "cell_type": "code",
   "execution_count": null,
   "metadata": {},
   "outputs": [],
   "source": [
    "import math                               # Я подключил модули cmath и math, чтобы сравнить наши функции и питоновские функции\n",
    "import matplotlib.pyplot as mpp           # Также я построил графики синуса и косинуса\n",
    "import numpy\n",
    "import cmath\n",
    "\n",
    "def sin(x, k):                            # Функции синуса, косинуа, арксинуса, арктангенса.\n",
    "    x_pow = x                             # Кроме аргумента я также ввел в качестве переменной точность k\n",
    "    mult = 1                              # Её можно будет регулировать во время работы программы\n",
    "    partical_sum = x\n",
    "    for n in range(1, k):\n",
    "        x_pow *= x**2\n",
    "        mult *= -1 / (2*n) / (2*n + 1)\n",
    "        partical_sum += x_pow * mult\n",
    "    return partical_sum\n",
    "\n",
    "def cos(x, k):\n",
    "    x_pow = 1\n",
    "    mult = 1\n",
    "    partical_sum = 1\n",
    "    for n in range(1, k):\n",
    "        x_pow *= x**2\n",
    "        mult *= -1 / (2*n) / (2*n-1)\n",
    "        partical_sum += x_pow * mult\n",
    "    return partical_sum\n",
    "\n",
    "def arcsin(x, k):\n",
    "    x_pow = x\n",
    "    mult = 1\n",
    "    partical_sum = x\n",
    "    for n in range(1, k):\n",
    "        x_pow *= x**2\n",
    "        mult *= (2 * n) * (2 * n - 1) / 4 / n**2\n",
    "        partical_sum += x_pow * mult / (2 * n + 1)\n",
    "    return partical_sum\n",
    "\n",
    "def arctg (x, k):\n",
    "    x_pow = x\n",
    "    mult = 1\n",
    "    partical_sum = x\n",
    "    for n in range(1, k):\n",
    "        x_pow *= x**2\n",
    "        mult *= -1\n",
    "        partical_sum += x_pow * mult / (2 * n + 1)\n",
    "    return partical_sum"
   ]
  },
  {
   "cell_type": "markdown",
   "metadata": {},
   "source": [
    "Программа выглядит весьма массивно. Снизу вычисляем синус и сравниваем его с питоновскими синусами + рисуем графики нашего синуса и питоновского."
   ]
  },
  {
   "cell_type": "code",
   "execution_count": null,
   "metadata": {},
   "outputs": [],
   "source": [
    "arg = 2.0                                                                           # arg - аргумент какой-либо функции.\n",
    "arguments = numpy.r_[0: 10: 0.1]                                                    # Чтобы потом построить график.\n",
    "func = input(\"Введите функцию, например (sin, cos, arcsin, arctg): \")               # Ввожу функцию, а затем читаю строку.\n",
    "\n",
    "if func[0:3] == 'sin':\n",
    "   while True:\n",
    "      arg = complex(input(\"Введите аргумент: \"))                                    # Синус и косинус можно брать от комплесного числа\n",
    "      arg = complex(arg.real % (2 * math.pi), arg.imag % (2 * math.pi))             # Делю по модулю на 2pi для большей точности\n",
    "      precision = 1                                                                 # precision - значение точности\n",
    "      print(\"Указав, что точность равна 0, вы можете изменить значение аргумента\")\n",
    "      while precision != 0:\n",
    "         precision = int(input(\"Точность:\"))\n",
    "         if arg.imag == 0:\n",
    "             arg = float (arg.real)\n",
    "             print (math.sin(arg))\n",
    "         else:\n",
    "             print (cmath.sin(arg))\n",
    "         print (sin(arg, precision))\n",
    "         mpp.plot(\n",
    "          arguments, [sin((q % (2 * math.pi)), precision) for q in arguments],\n",
    "          arguments, [math.sin(q) for q in arguments]\n",
    "          )\n",
    "         mpp.show()"
   ]
  },
  {
   "cell_type": "markdown",
   "metadata": {},
   "source": [
    "Наш синус с большой точностью способен также вычситать и косплексное число. Косинус выглядит практически точно также"
   ]
  },
  {
   "cell_type": "code",
   "execution_count": null,
   "metadata": {},
   "outputs": [],
   "source": [
    "elif func[0:3] == 'cos':\n",
    "    while True:\n",
    "      arg = complex(input(\"Введите аргумент: \"))\n",
    "      arg = complex(arg.real % (2 * math.pi), arg.imag % (2 * math.pi))\n",
    "      precision = 1\n",
    "      print(\"Указав, что точность равна 0, вы можете изменить значение аргумента\")\n",
    "      while precision != 0:\n",
    "         precision = int(input(\"Точность:\"))\n",
    "         if arg.imag == 0:\n",
    "             arg = float (arg.real)\n",
    "             print (math.cos(arg))\n",
    "         else:\n",
    "             print (cmath.cos(arg))\n",
    "         print (cos(arg, precision))\n",
    "         mpp.plot(\n",
    "          arguments, [cos((q % (2 * math.pi)), precision) for q in arguments],\n",
    "          arguments, [math.cos(q) for q in arguments]\n",
    "          )\n",
    "         mpp.show()"
   ]
  },
  {
   "cell_type": "markdown",
   "metadata": {},
   "source": [
    "Остались лишь арксинус и арктангенс. Они тоже очень похожи друг на друга."
   ]
  },
  {
   "cell_type": "code",
   "execution_count": null,
   "metadata": {},
   "outputs": [],
   "source": [
    "elif func[0:6] == 'arcsin':\n",
    "   while True:\n",
    "     arg = 2.0\n",
    "     while arg < -1 or arg > 1:                                 #Условие, что аргумент может быть равен лишь от -1 до 1\n",
    "        arg = float(input(\"Введите аргумент (от -1 до 1): \"))\n",
    "     precision = 1\n",
    "     print(\"Указав, что точность равна 0, вы можете изменить значение аргумента\")\n",
    "     while precision != 0:\n",
    "        precision = int(input(\"Точность:\"))\n",
    "        print (math.asin(arg))                                  #Сравниваем значения с питоновским синусом\n",
    "        print (arcsin(arg, precision))\n",
    "\n",
    "elif func[0:5] == 'arctg':\n",
    "   while True:\n",
    "      arg = 2.0\n",
    "      while arg < -1 or arg > 1:\n",
    "         arg = float(input(\"Введите аргумент (от -1 до 1): \"))\n",
    "      precision = 1\n",
    "      print(\"Указав, что точность равна 0, вы можете изменить значение аргумента\")\n",
    "      while precision != 0:\n",
    "         precision = int(input(\"Точность:\"))\n",
    "         print (math.atan(arg))\n",
    "         print (arctg(arg, precision))"
   ]
  }
 ],
 "metadata": {
  "kernelspec": {
   "display_name": "Python 3",
   "language": "python",
   "name": "python3"
  },
  "language_info": {
   "codemirror_mode": {
    "name": "ipython",
    "version": 3
   },
   "file_extension": ".py",
   "mimetype": "text/x-python",
   "name": "python",
   "nbconvert_exporter": "python",
   "pygments_lexer": "ipython3",
   "version": "3.8.6"
  }
 },
 "nbformat": 4,
 "nbformat_minor": 4
}
