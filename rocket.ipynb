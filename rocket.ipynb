{
 "cells": [
  {
   "cell_type": "markdown",
   "metadata": {},
   "source": [
    "# Ракета\n",
    "\n",
    "Сначала разберемся, как ведет себя ракета с переменной массой. Для этого запишем изменение массы и скорости за время $ dt $ и импульс газа и ракеты (пренебрежем действием силы тяжесты, хотя это и не очень хорошо)\n",
    "\n",
    "$$ P_g = dm(u - u_g) $$\n",
    "\n",
    "$$ P_r = (m - dm) * (u + du) $$\n",
    "\n",
    "По закону сохранению энергии $ P = const $ , поэтому\n",
    "\n",
    "$$ P = P_g + P_r = mu = (m - dm) * (u + du) + dm(u - u_g) $$\n",
    "\n",
    "Раскроем скобки и приведем к виду:\n",
    "\n",
    "$$ du = \\frac{dm * u_g}{m - dm} $$ \n",
    "\n",
    "Вот мы довольно быстро и нашли нужную нам формулу, которой сейчас и воспользуемся.\n",
    "\n",
    "Также расипишим проекции на оси:\n",
    "\n",
    "$$ sin(a) = \\frac{u_y}{u}; cos(a) = \\frac{u_x}{u}; u = \\sqrt{u_x^2 + u_y^2}$$\n",
    "\n",
    "$$ du_x = sin(a) * \\frac{dm * u_g}{m - dm} = \\frac{u_y}{u} * \\frac{dm * u_g}{m - dm} $$\n",
    "\n",
    "$$ du_y = cos(a) * \\frac{dm * u_g}{m - dm} = \\frac{u_x}{u} * \\frac{dm * u_g}{m - dm} $$"
   ]
  },
  {
   "cell_type": "code",
   "execution_count": 16,
   "metadata": {},
   "outputs": [
    {
     "data": {
      "image/png": "[encoded data removed]",
      "text/plain": [
       "<Figure size 432x288 with 1 Axes>"
      ]
     },
     "metadata": {
      "needs_background": "light"
     },
     "output_type": "display_data"
    }
   ],
   "source": [
    "import matplotlib.pyplot as pp\n",
    "import numpy as np\n",
    "\n",
    "MODEL_G = 9.81\n",
    "MODEL_DT = 0.001\n",
    "MODEL_DM = 0.1     #Изменение массы ракеты (кол-во вылетающего газа за ед. времени)\n",
    "MODEL_U = 20       #Скорость вылетающего газа относительно Земли (!)\n",
    "\n",
    "class Body:\n",
    "    def __init__(self, x, y, vx, vy):\n",
    "\n",
    "        self.x = x\n",
    "        self.y = y\n",
    "        self.vx = vx\n",
    "        self.vy = vy\n",
    "\n",
    "        self.trajectory_x = []\n",
    "        self.trajectory_y = []\n",
    "\n",
    "    def advance(self):\n",
    "\n",
    "        self.trajectory_x.append(self.x)\n",
    "        self.trajectory_y.append(self.y)\n",
    "\n",
    "        self.x += self.vx * MODEL_DT\n",
    "        self.y += self.vy * MODEL_DT\n",
    "        self.vy -= MODEL_G * MODEL_DT\n",
    "\n",
    "class Rocket(Body):\n",
    "    def __init__(self, x, y):\n",
    "        super().__init__(x, y, 10, 10)\n",
    "        self.m = 40               #Масса всей ракеты (т.е. вместе с топливом)\n",
    "\n",
    "    def advance(self):\n",
    "        super().advance()\n",
    "        if self.m >= 30:          #Таким условием мы обозначаем массу корпуса ракеты\n",
    "            self.m -= MODEL_DM\n",
    "            v = (self.vx ** 2 + self.vy ** 2) ** 0.5\n",
    "            \n",
    "            dv = MODEL_U * MODEL_DM / self.m        #Изменение всей скрости за dt (не считая силу тяжести)\n",
    "            v = (self.vx ** 2 + self.vy ** 2)**0.5  \n",
    "            self.vx += dv * self.vx / v             #Изменение проеции скорости\n",
    "            self.vy += dv * self.vy / v\n",
    "\n",
    "b = Body(0, 0, 10, 10)\n",
    "r = Rocket(0, 0)\n",
    "\n",
    "bodies = [b, r]\n",
    "\n",
    "for t in np.r_[0:2:MODEL_DT]:\n",
    "    for b in bodies:\n",
    "        b.advance()\n",
    "\n",
    "for b in bodies:\n",
    "     pp.plot(b.trajectory_x, b.trajectory_y) \n",
    "pp.show()"
   ]
  }
 ],
 "metadata": {
  "kernelspec": {
   "display_name": "Python 3",
   "language": "python",
   "name": "python3"
  },
  "language_info": {
   "codemirror_mode": {
    "name": "ipython",
    "version": 3
   },
   "file_extension": ".py",
   "mimetype": "text/x-python",
   "name": "python",
   "nbconvert_exporter": "python",
   "pygments_lexer": "ipython3",
   "version": "3.8.6"
  }
 },
 "nbformat": 4,
 "nbformat_minor": 4
}
