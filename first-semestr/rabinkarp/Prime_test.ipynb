{
 "cells": [
  {
   "cell_type": "markdown",
   "metadata": {},
   "source": [
    "Тест на простоту \"в лоб\": проверка делимости числа p на простые числа от 2 до $\\sqrt p$, где p - проверяемое число"
   ]
  },
  {
   "cell_type": "code",
   "execution_count": 1,
   "metadata": {},
   "outputs": [
    {
     "name": "stdout",
     "output_type": "stream",
     "text": [
      "208 ms ± 14.9 ms per loop (mean ± std. dev. of 7 runs, 1 loop each)\n"
     ]
    }
   ],
   "source": [
    "def vlob_test(p):\n",
    "    if p <= 0:\n",
    "        return False                   #Если число отрицательное, то для определенности возвращаем False\n",
    "    sqrt_of_p = int(p**0.5)            #Округление корня до наименьшего целого\n",
    "    spisok = list(range(2, sqrt_of_p)) #spisok - список, в котором будут простые числа\n",
    "    for i in spisok:                   #Решето Эратосфена: все состовные числа будут равны 0\n",
    "        if i != 0:\n",
    "            if i**2 > sqrt_of_p:\n",
    "                break\n",
    "            for j in range(i**2, sqrt_of_p, i):\n",
    "                spisok[j - 2] = 0\n",
    "    spisok = list(filter(lambda x: x != 0, spisok)) #Удалаем из списка все элементы равные 0\n",
    "    for i in spisok:     # Наконец проверяем делимость\n",
    "        if p % i == 0:\n",
    "            return False\n",
    "    return True\n",
    "\n",
    "a = [111111111149]\n",
    "%timeit for x in a: vlob_test(x)"
   ]
  },
  {
   "cell_type": "markdown",
   "metadata": {},
   "source": [
    "Реализация вероятностного теста Миллера — Рабина. Используется следующая идея: Пусть $ n $ — простое число и $n-1= 2^{s \\cdot d}$, где $d$ - нечетно. Тогда для любого целого $a < n$ выполняется хотя бы одно из условий:\n",
    "$$\\left[ \n",
    "      \\begin{gathered} \n",
    "        a^d \\equiv 1\\mod{n}; \\\\ \n",
    "        \\exists r < s: a^{2^{r}d} \\equiv -1\\mod{n}\n",
    "      \\end{gathered} \n",
    "\\right.$$"
   ]
  },
  {
   "cell_type": "code",
   "execution_count": 2,
   "metadata": {},
   "outputs": [
    {
     "name": "stdout",
     "output_type": "stream",
     "text": [
      "21.6 µs ± 5.37 µs per loop (mean ± std. dev. of 7 runs, 10000 loops each)\n"
     ]
    }
   ],
   "source": [
    "import random\n",
    "rg = random.Random()\n",
    "\n",
    "def prime_test_miller_rabin(p, iter):\n",
    "    if p <= 0:\n",
    "        return False\n",
    "    s = 0\n",
    "    d = p - 1\n",
    "    while (p - 1) % 2:\n",
    "        s += 1\n",
    "        d = d / 2\n",
    "    for _ in range(iter):\n",
    "        a = rg.randint(2, p-1)\n",
    "        x = pow(a, d, p)\n",
    "        if x == 1 or x == p - 1:\n",
    "            continue\n",
    "        for _ in range(s-1):\n",
    "            x = pow(x, 2, p)\n",
    "            if x == 1:\n",
    "                return False\n",
    "            if x == -1:\n",
    "                continue\n",
    "        return False\n",
    "    return True\n",
    "\n",
    "a = [111111111149]\n",
    "%timeit for x in a: prime_test_miller_rabin(x, 1)"
   ]
  }
 ],
 "metadata": {
  "kernelspec": {
   "display_name": "Python 3",
   "language": "python",
   "name": "python3"
  },
  "language_info": {
   "codemirror_mode": {
    "name": "ipython",
    "version": 3
   },
   "file_extension": ".py",
   "mimetype": "text/x-python",
   "name": "python",
   "nbconvert_exporter": "python",
   "pygments_lexer": "ipython3",
   "version": "3.8.6"
  }
 },
 "nbformat": 4,
 "nbformat_minor": 4
}
