{
 "cells": [
  {
   "cell_type": "markdown",
   "metadata": {},
   "source": [
    "# Алгоритм Евклида (расширенный)\n",
    "\n",
    "Воссоздать алгоритм Евклида просто, а вот для того, чтобы сделать максимально простую программу для линейного представления НОД, нужно уже немного подумать. Первое, что приходит в голову - это работать со списками (к сожалению, я тоже без них не обошелся), но всегда хочется сделать программу как можно меньше и красивей. И, как по мне, у меня вышло весьма лаконично.\n",
    "\n",
    "Представим следующее:\n",
    "\n",
    "$$a \\cdot x_0 + b \\cdot y_0 = gcd(a, b)$$\n",
    "\n",
    "$$ a = b \\cdot q_1 + r_1\n",
    "\\\\ b = r_1 \\cdot q_2 + r_2\n",
    "\\\\ r_1 = r_2 \\cdot q_3 + r_3\n",
    "\\\\ r_2 = r_3 \\cdot q_4 + r_4\n",
    "\\\\ r_3 = r_4 \\cdot q_5 + r_5 $$\n",
    "\n",
    "Пусть $ r_5 = 0 $, т.е $ gcd(a, b) = r_4 $. Тогда $ gcd(a, b) = r_4 \\cdot x_5 + y_5$, где $ x_5 = 1; y_5 = 0 $ Т. е. мы нашли линейное представление НОД для пары $(r_4, r_5)$\n",
    "\n",
    "Линейное представление для $(r_3, r_4): r_3 \\cdot x_4 + r_4 \\cdot y_3 = r_4$\n",
    "Понятно, что $x_4 = 0$ и $y_4 = 1$\n",
    "\n",
    "Линейное представление для $(r_2, r_3): r_2 \\cdot x_3 + r_3 \\cdot y_3 = gcd(a, b)$\n",
    "Нам известно, что $ r_2 = r_3 \\cdot q_4 + r_4 $\n",
    "Откуда следует, что $ r_3(q_4 \\cdot x_3 + y_3) + r_4 \\cdot x_3 = gcd$\n",
    "\n",
    "Это и есть линйеное представление для $(r_3, r_4)$.\n",
    "Таким образом:\n",
    "\\begin{equation*}\n",
    " \\begin{cases}\n",
    "  q_4 \\cdot x_3 + y_3 = x_4\n",
    "  \\\\\n",
    "  x_3 = x_4\n",
    "  \\end{cases}\n",
    "\\end{equation*}\n",
    "\n",
    "\\begin{equation*}\n",
    " \\begin{cases}\n",
    "  y_3 = x_4 - q_4 \\cdot x_3\n",
    "  \\\\\n",
    "  x_3 = x_4\n",
    "  \\end{cases}\n",
    "\\end{equation*}\n",
    "\n",
    "Так будет для каждого $y_i$ и $x_i$\n",
    "Таким образом можно придти к выводу, что\n",
    "\\begin{equation*}\n",
    " \\begin{cases}\n",
    "  y_n = y_{n+2} - q_{n+1} \\cdot y_{n+1}\n",
    "  \\\\\n",
    "  x_n = y_{n+1}\n",
    "  \\end{cases}\n",
    "\\end{equation*}\n",
    "Таким образом мы сможем добраться до искомых $x_0$ и $y_0$.\n",
    "Именно эту идею я и реализовал в своем алгоритме, однако для это мне нужно знать все $q_i$, для чего пришлось создавать список"
   ]
  },
  {
   "cell_type": "code",
   "execution_count": null,
   "metadata": {},
   "outputs": [],
   "source": [
    "def gcd(a, b):\n",
    "    if a < 0 or b < 0:\n",
    "        a, b = abs(a), abs(b)\n",
    "    if a < b:\n",
    "        a, b = b, a\n",
    "    if b == 0:\n",
    "        return 0\n",
    "    quotients = [] # Создаю список со всеми целочисленными частными\n",
    "    \n",
    "    u, v = 1, 0 #Т.е x_n = 1, y_n = 0\n",
    "    \n",
    "    while b:\n",
    "        quotients.append(a // b)\n",
    "        a, b = b, a % b\n",
    "        \n",
    "    for i in quotients[::-1]:    # Таким образом я \"переворачиваю\" список\n",
    "        u, v = v, u - i * v\n",
    "    return (u, v, a)             #Возращаю оба коэффициента в линейном предстаалении и сам НОД "
   ]
  }
 ],
 "metadata": {
  "kernelspec": {
   "display_name": "Python 3",
   "language": "python",
   "name": "python3"
  },
  "language_info": {
   "codemirror_mode": {
    "name": "ipython",
    "version": 3
   },
   "file_extension": ".py",
   "mimetype": "text/x-python",
   "name": "python",
   "nbconvert_exporter": "python",
   "pygments_lexer": "ipython3",
   "version": "3.8.6"
  }
 },
 "nbformat": 4,
 "nbformat_minor": 4
}
